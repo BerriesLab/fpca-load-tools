from src.time_series.time_series import ElectricityLoadTimeSeries
from src.fpca.fpca import ElectricityLoadFPCA
from src.prediction.prediction import ElectricityLoadPrediction

ts = ElectricityLoadTimeSeries()
ts.load_entso_e_transparency(country="it")
ts.convert_utc_to_local_timestamp()
ts.filter_complete_data()
ts.resample_days()
ts.extract_year_month_day_from_datetimeindex()
ts.extract_day_of_the_week()
ts.sort()
#ts.save_time_series()

fpca = ElectricityLoadFPCA(time_series=ts)
fpca.run_fpca_on_all_days()
fpca.run_fpca_on_all_days_grouped_by_weekday()
fpca.run_fpca_on_all_days_grouped_by_month()
fpca.save_fpca_results()
fpca.load_fpca_results('/Users/berri/GitHub Repositories/fpca-load/tutorials/fpca.pkl')

fpca.plot_cdf_of_explained_variability()
fpca.plot_fpc()
fpca.plot_functional_boxplot()
fpca.plot_scores_vs_day_of_the_week()
fpca.plot_scores_vs_month_of_the_year()

prediction = ElectricityLoadPrediction(fpca=fpca)
prediction.train_linear_model(n_fpc=5)
prediction.predict_daily_electricity_load_curve(date='2019-08-27')
